{
 "cells": [
  {
   "cell_type": "code",
   "execution_count": 1,
   "id": "bd74e28d",
   "metadata": {},
   "outputs": [],
   "source": [
    "import spacy\n",
    "nlp_fr=spacy.load('fr_core_news_sm')\n",
    "nlp_en=spacy.load('en_core_web_sm')"
   ]
  },
  {
   "cell_type": "code",
   "execution_count": 4,
   "id": "e74b0462",
   "metadata": {},
   "outputs": [],
   "source": [
    "from googletrans import Translator\n",
    "translator=Translator()\n",
    "doc=(\"L'intelligence artificielle (IA) fait référence au développement de systèmes informatiques ou de machines capables d'effectuer des tâches qui nécessitent généralement l'intelligence humaine.\")\n"
   ]
  },
  {
   "cell_type": "code",
   "execution_count": null,
   "id": "7de5136f",
   "metadata": {},
   "outputs": [],
   "source": [
    "#!pip install nlp"
   ]
  },
  {
   "cell_type": "code",
   "execution_count": 5,
   "id": "a64ae895",
   "metadata": {},
   "outputs": [],
   "source": [
    "\n",
    "translation = translator.translate(doc, dest='en')\n",
    "\n"
   ]
  },
  {
   "cell_type": "code",
   "execution_count": null,
   "id": "ef214b63",
   "metadata": {},
   "outputs": [],
   "source": [
    "#!pip install googletrans==4.0.0-rc1"
   ]
  },
  {
   "cell_type": "code",
   "execution_count": 6,
   "id": "11341fa6",
   "metadata": {},
   "outputs": [
    {
     "data": {
      "text/plain": [
       "<googletrans.models.Translated at 0x25f043aacd0>"
      ]
     },
     "execution_count": 6,
     "metadata": {},
     "output_type": "execute_result"
    }
   ],
   "source": [
    "translation"
   ]
  },
  {
   "cell_type": "code",
   "execution_count": 7,
   "id": "98e33c24",
   "metadata": {},
   "outputs": [],
   "source": [
    "translated_text=translation.text"
   ]
  },
  {
   "cell_type": "code",
   "execution_count": 8,
   "id": "dcd23be7",
   "metadata": {},
   "outputs": [
    {
     "data": {
      "text/plain": [
       "'Artificial intelligence (AI) refers to the development of computer systems or machines capable of performing tasks that generally require human intelligence.'"
      ]
     },
     "execution_count": 8,
     "metadata": {},
     "output_type": "execute_result"
    }
   ],
   "source": [
    "translated_text"
   ]
  }
 ],
 "metadata": {
  "kernelspec": {
   "display_name": "Python 3 (ipykernel)",
   "language": "python",
   "name": "python3"
  },
  "language_info": {
   "codemirror_mode": {
    "name": "ipython",
    "version": 3
   },
   "file_extension": ".py",
   "mimetype": "text/x-python",
   "name": "python",
   "nbconvert_exporter": "python",
   "pygments_lexer": "ipython3",
   "version": "3.11.5"
  }
 },
 "nbformat": 4,
 "nbformat_minor": 5
}
